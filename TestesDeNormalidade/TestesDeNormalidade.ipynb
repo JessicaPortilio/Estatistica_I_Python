{
  "nbformat": 4,
  "nbformat_minor": 0,
  "metadata": {
    "colab": {
      "name": "TestesDeNormalidade.ipynb",
      "provenance": []
    },
    "kernelspec": {
      "name": "python3",
      "display_name": "Python 3"
    },
    "language_info": {
      "name": "python"
    }
  },
  "cells": [
    {
      "cell_type": "code",
      "execution_count": 1,
      "metadata": {
        "id": "BE1B5wZI3VnL"
      },
      "outputs": [],
      "source": [
        "# Importação das bibliotecas: matplotilib para geração de gráficos\n",
        "from scipy import stats\n",
        "from scipy.stats import norm, skewnorm\n",
        "import matplotlib.pyplot as plt"
      ]
    },
    {
      "cell_type": "code",
      "source": [
        "# Criação de uma variável com dados em uma distribuição normal com a função rvs (1000 elementos)\n",
        "dados = norm.rvs(size = 1000)\n",
        "dados"
      ],
      "metadata": {
        "colab": {
          "base_uri": "https://localhost:8080/"
        },
        "id": "jriH1o3H3-Px",
        "outputId": "16aac709-9b54-4c1e-d28c-2b5a28da29a4"
      },
      "execution_count": 2,
      "outputs": [
        {
          "output_type": "execute_result",
          "data": {
            "text/plain": [
              "array([-7.68038207e-01,  1.66161108e+00,  1.08390063e-01, -1.68279963e-01,\n",
              "        4.11361326e-01,  5.68766872e-01,  2.36710553e+00,  8.16472917e-01,\n",
              "        1.49477927e-01, -8.55956981e-01, -1.51247160e+00,  1.03427387e+00,\n",
              "       -5.23008478e-01,  1.46811362e-01,  4.19182309e-01, -1.83795881e-01,\n",
              "        8.07138061e-01, -7.74470347e-01,  5.32039426e-01,  2.31555938e-01,\n",
              "       -1.08578913e+00, -7.69206645e-03,  7.33550573e-01, -1.38129106e-03,\n",
              "       -5.07710668e-01,  1.59883409e+00, -7.06938188e-01,  1.85111415e+00,\n",
              "        6.36461147e-02,  9.81286447e-01, -2.04401680e-02, -1.20739893e+00,\n",
              "        1.36551477e-03, -5.41480861e-01, -5.45829297e-01, -1.08962213e+00,\n",
              "       -5.61216952e-01,  5.34223187e-01, -4.85751991e-01,  5.82444067e-01,\n",
              "        7.06436935e-03, -1.36170349e+00, -1.33198792e+00, -1.37978762e-01,\n",
              "        1.49630843e-01, -9.09423093e-01, -5.59536905e-01, -1.48363832e+00,\n",
              "       -6.35564618e-01,  6.02602617e-01, -1.02087119e+00,  2.05981952e-01,\n",
              "        2.43463624e+00,  3.65782740e-01,  7.99368900e-01, -1.10239109e+00,\n",
              "        4.97808369e-01, -1.61626284e+00, -6.52764596e-01, -1.16558637e+00,\n",
              "        1.00431974e+00,  5.67561066e-01, -6.91525599e-02, -7.77027907e-01,\n",
              "        8.28415685e-01,  1.96245439e-01,  3.28153876e-01,  1.01429535e+00,\n",
              "       -2.18911133e-01,  2.24010539e+00, -5.05495231e-01,  1.00876278e+00,\n",
              "       -8.42042790e-02,  5.91681454e-01,  7.84198648e-01,  9.41383865e-01,\n",
              "        1.50826937e-01,  4.35412370e-01, -1.35813530e+00, -4.69866052e-01,\n",
              "        2.38541621e-01, -3.80919901e-02, -6.88683969e-02,  5.45637975e-01,\n",
              "       -6.62114289e-01,  1.62864029e+00,  1.87291731e-01, -4.64212520e-01,\n",
              "       -2.21105937e-01,  1.00550768e+00, -7.14627735e-02, -1.02143819e+00,\n",
              "       -1.14816087e+00,  9.65489911e-01,  7.88635157e-01, -7.16423445e-01,\n",
              "        1.73083668e-01, -2.02365408e+00,  1.84469242e-01,  1.50679759e+00,\n",
              "       -5.54653524e-01, -9.10502664e-01,  1.26397465e+00, -5.15434680e-01,\n",
              "        1.25454663e-01,  2.45492573e-02,  1.37343378e+00, -8.18943031e-01,\n",
              "       -1.01986719e+00, -3.92981341e-01, -1.66150754e+00,  1.81920786e+00,\n",
              "        1.07739677e+00,  1.28122135e+00,  6.88044278e-01,  9.71993423e-01,\n",
              "        5.57036104e-01, -2.12206727e+00,  9.86282609e-01,  5.43085904e-01,\n",
              "       -5.51132430e-01, -2.32000252e+00, -3.84714286e-01, -7.01163918e-02,\n",
              "       -5.60063876e-01,  4.63319048e-01, -5.12759442e-01,  7.16457645e-01,\n",
              "        2.30874010e+00, -1.18343653e+00, -1.16817049e+00, -5.29663243e-01,\n",
              "        1.41284981e+00,  5.95922687e-01,  5.00013633e-01,  4.77461559e-01,\n",
              "       -4.44841533e-01,  1.15798401e+00, -2.57383283e+00, -3.51141582e-01,\n",
              "       -6.55989138e-01,  8.67791306e-01,  5.83182633e-01, -1.60974416e-01,\n",
              "        1.75259962e-01,  2.53395604e-01,  3.62493600e-01, -3.30733704e-01,\n",
              "        7.11436492e-01, -8.26570031e-01,  1.21159868e+00, -5.14997089e-01,\n",
              "        8.11874780e-01,  6.65461439e-01,  6.33497824e-01, -2.41961284e-01,\n",
              "        1.40699919e+00, -1.54268557e+00,  1.68758666e+00,  1.96921873e-01,\n",
              "        1.13151753e+00,  8.20067336e-02,  4.41215894e-01, -3.35989125e-01,\n",
              "       -9.49792645e-01, -5.87631773e-01,  5.37386599e-01,  2.69370428e-01,\n",
              "       -1.53316129e-01, -2.75415280e-01, -2.80101370e-01, -2.35412525e+00,\n",
              "        1.00461716e+00,  1.13910067e+00,  5.19664677e-02, -6.71920641e-01,\n",
              "       -6.74841572e-03, -6.98481863e-01,  1.70493811e+00,  9.65522653e-01,\n",
              "       -1.59165340e-01,  8.08505778e-01,  9.13067600e-01,  8.36005498e-01,\n",
              "        2.72018353e-01,  8.63388873e-01,  5.28346706e-01, -1.34802574e+00,\n",
              "       -1.73964366e+00, -8.87048846e-01,  9.48334382e-01,  1.31891593e+00,\n",
              "       -1.00480828e-01, -1.29998281e+00, -4.21568261e-01, -2.04825173e-01,\n",
              "       -4.50297525e-01,  9.48725826e-01,  9.40684472e-01, -3.36216205e-01,\n",
              "        1.12880917e+00, -9.39075216e-01, -2.09469267e-01, -1.18534158e+00,\n",
              "        9.75529966e-01,  2.49069147e-01, -8.53186946e-02, -7.05292964e-01,\n",
              "       -8.31486547e-01,  1.55643407e+00,  1.94338515e+00, -1.80383665e+00,\n",
              "        1.64647689e+00, -7.99876345e-01,  6.08471323e-01,  1.88721507e+00,\n",
              "       -1.55924479e+00, -5.31405699e-01,  2.84301375e-01,  6.50229780e-01,\n",
              "       -1.88059991e-01,  1.06747431e-01, -9.66389623e-01, -1.03574456e+00,\n",
              "       -4.93049630e-01,  4.54053488e-01, -6.37427438e-01,  1.13894993e+00,\n",
              "        1.96619361e+00, -4.57297772e-01, -2.47801551e-01,  5.49419315e-01,\n",
              "        1.97792689e+00,  5.45389981e-01, -1.18956261e+00,  1.25243623e+00,\n",
              "       -1.94849376e+00,  8.06856655e-02,  1.16278191e-01, -2.43981708e-01,\n",
              "       -6.05205923e-01,  1.11368750e+00, -7.85569929e-01, -1.32610459e+00,\n",
              "        3.82621121e-01,  9.96159512e-01, -8.95370340e-01, -6.95590056e-01,\n",
              "        7.44742742e-01,  9.08657887e-02, -7.41284297e-01,  4.48319005e-01,\n",
              "       -5.71474356e-01,  3.24774564e-01,  1.80116418e-01, -3.07696681e-01,\n",
              "       -7.41175038e-01,  1.63208567e-01,  3.20013411e+00, -2.06640864e+00,\n",
              "       -5.41848685e-01, -1.10252793e+00, -1.28695877e-01, -9.74242121e-01,\n",
              "       -6.72701506e-01,  3.31516981e-01,  5.14207998e-01, -3.89910679e-01,\n",
              "        4.53496630e-01, -6.02336900e-02, -1.72237750e-02,  5.30125819e-01,\n",
              "        8.23459829e-01,  1.39961268e+00, -1.87444219e-02, -1.48486630e-01,\n",
              "       -6.76548911e-01, -1.45254729e+00,  5.06598930e-01, -1.52072594e+00,\n",
              "       -2.18419662e-01,  7.33166293e-01, -8.09284768e-01, -5.68114465e-01,\n",
              "        1.26508941e+00, -5.13073269e-01, -1.26458279e+00,  1.20512694e+00,\n",
              "        1.02850383e+00,  1.28068358e+00, -3.24475453e-01,  9.55696836e-01,\n",
              "       -1.96349209e+00,  4.76909125e-01,  1.73190778e-01, -2.61946427e-01,\n",
              "       -1.07627245e+00, -1.92645587e-01, -9.22928215e-02, -6.44511376e-01,\n",
              "        8.22149248e-02, -4.21913851e-01,  3.90398299e-01, -1.64576831e+00,\n",
              "       -4.75071638e-01, -2.82824508e-01,  8.55720847e-02, -7.23348374e-01,\n",
              "        1.09094031e+00,  6.67527051e-01, -3.77741160e-01, -5.45689072e-02,\n",
              "       -1.64103813e+00, -1.39101737e+00,  9.93378397e-01,  1.09046799e+00,\n",
              "        1.06832474e-01,  5.17801584e-02, -3.76697230e-01, -1.03993917e+00,\n",
              "       -5.48747645e-01,  1.15898138e+00, -1.16999464e+00, -3.33388234e-01,\n",
              "       -1.51341528e+00, -1.55020328e-02, -1.01976372e+00,  5.96222821e-01,\n",
              "        2.94897043e-01,  1.03230962e+00,  6.05360263e-01, -1.34581002e+00,\n",
              "       -1.67184054e+00,  3.42478661e-01,  4.29468920e-03,  1.36524984e-01,\n",
              "       -5.54466696e-02, -4.28458721e-01,  1.86279388e-01, -5.24719536e-01,\n",
              "        1.30662802e+00,  2.21413028e+00, -3.66925323e-01, -7.43748839e-01,\n",
              "       -2.53792231e-01,  1.89961535e+00, -1.12024111e-01, -1.20702529e-01,\n",
              "       -9.24044001e-02,  4.44350851e-01, -1.87440101e+00,  3.54751776e-01,\n",
              "       -1.87065777e-01,  1.43577632e+00, -2.78358282e-01, -2.04151256e-01,\n",
              "        1.57542385e+00, -5.43324682e-01,  6.57093394e-01, -1.29524673e-02,\n",
              "       -8.94772290e-01,  8.26652832e-01, -7.64377573e-01,  7.05232028e-01,\n",
              "        4.09778151e-01, -1.42453849e+00,  4.56239793e-01,  3.48336093e-01,\n",
              "       -1.63614964e+00,  9.52237531e-01, -6.31849612e-01, -5.90614563e-01,\n",
              "        5.39134547e-01, -1.24970542e+00, -3.52213099e-01, -8.11628686e-01,\n",
              "        2.77451730e-01, -7.19565034e-01, -1.61636968e+00,  1.25781922e+00,\n",
              "       -3.49563984e-01, -1.51782622e+00,  9.32183424e-01, -3.93078757e-02,\n",
              "       -1.93625708e-01,  1.19814812e-01, -9.28839417e-01,  1.41821788e+00,\n",
              "        9.02075100e-01,  1.50211739e+00, -9.10665772e-01, -1.08619646e+00,\n",
              "        5.23304112e-01, -2.54629189e-01,  2.45620993e-01,  7.62339124e-03,\n",
              "        1.23916853e-01,  3.61748845e-01,  4.99358189e-01, -4.93016891e-01,\n",
              "       -4.87584973e-01, -2.80879113e-01,  2.74220819e-01,  3.69016363e-01,\n",
              "       -1.22002059e+00, -6.18610777e-01, -2.06182396e-02, -8.25630841e-01,\n",
              "       -1.09284132e+00, -2.23331415e-01, -4.19590474e-01,  1.80479979e-01,\n",
              "        6.94297244e-01,  1.22873216e+00,  5.44729675e-01,  1.10622188e+00,\n",
              "        2.56105691e-01,  8.97901864e-01, -3.43421222e-01,  1.56646958e+00,\n",
              "        1.15339448e+00, -3.54488995e-01, -2.41342433e-01, -1.65487533e-01,\n",
              "       -1.86593624e+00, -5.78318738e-01,  8.55429039e-01, -1.22465253e-01,\n",
              "        7.44368204e-01, -1.27401087e+00,  1.82713138e-01,  6.06419581e-01,\n",
              "       -2.44542459e+00, -1.06812918e+00,  8.33351893e-02, -8.06917454e-01,\n",
              "       -1.34073525e-01, -1.71622542e+00,  9.23597929e-01, -2.87391102e-01,\n",
              "       -3.97193472e-01,  8.86711225e-01, -6.90605509e-01, -4.07589349e-01,\n",
              "        2.09934668e+00,  1.41310673e+00, -7.88080793e-01, -4.19086914e-01,\n",
              "        7.56906346e-01, -4.31149844e-01, -3.00913886e-03, -3.34280532e-01,\n",
              "       -1.14627683e+00,  1.75821900e+00, -4.58683882e-01, -4.44146589e-01,\n",
              "        4.07953626e-01,  2.27668126e-01, -6.82105678e-01, -1.26469951e+00,\n",
              "       -8.06874048e-01,  1.31213223e-01, -6.54331789e-01,  5.71319359e-01,\n",
              "       -1.30881995e+00,  4.14957248e-01,  9.19876222e-01,  5.06160932e-01,\n",
              "        1.19110433e+00, -2.32286797e+00, -1.92583625e-01, -5.99296611e-01,\n",
              "        6.29374396e-01,  1.17575605e-01, -1.96437969e+00,  2.19562178e+00,\n",
              "        7.34648414e-02, -7.85502048e-01, -1.03708532e+00,  1.48693510e-01,\n",
              "       -7.98100430e-01,  2.59156171e-01, -1.13883567e+00, -9.47759557e-02,\n",
              "       -6.33982991e-02,  1.87392914e-01, -1.08906058e+00, -7.55791621e-02,\n",
              "       -5.44651018e-01, -2.41194188e-01, -2.23056576e-01, -4.64260191e-01,\n",
              "        3.75811943e-01, -1.64311772e+00,  5.46162621e-01, -3.52277675e-01,\n",
              "       -1.20881245e+00,  4.97882960e-01,  1.22211730e+00, -1.36776669e+00,\n",
              "       -5.18999930e-01, -3.79745384e-01,  6.89905100e-01,  2.42161126e-01,\n",
              "       -5.29065122e-01,  5.26625063e-02, -1.72057696e+00, -4.24730933e-01,\n",
              "        1.02579075e+00, -6.37097374e-01,  1.38756353e+00,  1.37480343e-03,\n",
              "       -1.78946194e-01,  2.90621059e-01, -1.25120355e+00, -2.26430217e-01,\n",
              "       -6.79133463e-03, -1.09606152e-03,  1.14662774e+00,  1.69350214e+00,\n",
              "       -2.85906839e-01,  1.34367841e+00, -2.07106262e+00,  3.28474815e-01,\n",
              "        5.09276985e-01, -1.20363935e+00, -1.23104955e-01,  3.08367881e-01,\n",
              "        3.50907602e-01, -8.67501232e-01, -5.72998800e-01, -4.41459182e-03,\n",
              "        5.47492630e-01,  4.24017913e-01, -1.50745231e+00, -3.59167608e-01,\n",
              "       -1.01058013e+00,  8.10946623e-01,  1.01431574e+00, -6.64459440e-01,\n",
              "        5.55275462e-02, -5.09849119e-01, -5.08378517e-01, -3.70362371e-01,\n",
              "       -2.26755962e-01,  9.24455784e-02,  6.96569473e-02, -1.12617661e+00,\n",
              "        4.23323196e-01,  2.44414968e-01,  5.57091022e-02, -4.56456245e-01,\n",
              "       -1.03260338e+00, -3.95942869e-01,  8.38908192e-01, -7.24988191e-01,\n",
              "       -1.56260308e+00, -1.89524128e-01,  1.29794509e+00, -8.60673307e-01,\n",
              "       -1.28094138e+00,  1.29727135e+00,  4.86466227e-01, -1.71613485e+00,\n",
              "        1.10242140e+00,  9.30698290e-01, -5.09031035e-01, -6.48631856e-01,\n",
              "        1.51598863e+00,  1.59759307e+00,  1.50166039e+00, -5.82622272e-01,\n",
              "       -2.52541453e+00,  5.12137821e-01,  9.75601146e-01, -1.21233386e+00,\n",
              "       -3.81297320e-01, -3.16556974e-01,  8.67101167e-01, -1.46820410e+00,\n",
              "       -3.48428023e-01, -9.98559883e-01,  7.13100089e-02, -3.79029132e-01,\n",
              "       -9.81870137e-01, -1.80211797e-01,  6.01984641e-01, -1.22867976e+00,\n",
              "       -4.65624739e-01,  6.30883406e-01,  7.37302619e-01, -1.42578828e+00,\n",
              "       -1.39841870e+00, -6.50076229e-01, -7.41253041e-02,  9.48779954e-01,\n",
              "        3.84833094e-01,  3.53232374e-01, -4.73402630e-01,  9.52834219e-01,\n",
              "        1.36349516e+00,  2.50814530e-02,  6.57892937e-01,  8.09259764e-01,\n",
              "       -4.26152199e-01, -5.38794167e-01, -1.04228137e+00, -4.72626546e-02,\n",
              "        5.21918336e-01, -5.74384539e-01, -9.68449621e-01,  8.87554198e-01,\n",
              "       -2.76903043e-01, -5.13664373e-01, -1.97508012e-01, -2.45578985e-01,\n",
              "        1.87068752e-01,  8.38495488e-01, -1.14093717e+00, -1.96463360e-01,\n",
              "        1.72780515e+00, -6.21810155e-01, -5.08927463e-01,  6.67363863e-01,\n",
              "       -4.56472072e-01,  9.34497455e-01, -8.72645861e-01, -1.12848745e-01,\n",
              "        1.25252986e+00, -8.10846303e-01,  8.49185117e-02, -4.29876004e-01,\n",
              "       -5.31890268e-01, -3.77643030e-01, -2.21867980e-01, -6.85216306e-01,\n",
              "        1.67304146e-01, -5.93804618e-01,  2.98739091e+00,  5.80303925e-01,\n",
              "       -1.95373293e+00, -1.16723089e+00,  3.55765247e-01, -4.31473498e-01,\n",
              "        1.94177993e+00,  1.82275815e+00, -8.80011479e-01, -1.49526458e+00,\n",
              "        5.56071514e-01,  6.84029632e-01, -1.96467841e+00, -7.65158613e-01,\n",
              "       -2.55904595e-01, -5.04397380e-01, -4.93543317e-01,  5.42619803e-01,\n",
              "       -1.79253629e-01, -3.70640308e-01,  1.37496145e+00,  2.07295354e+00,\n",
              "        5.18270893e-02,  1.27767489e-01,  1.65160554e+00,  9.61851848e-01,\n",
              "        6.73433507e-01,  9.11835365e-01, -9.01452926e-01,  3.88576143e-01,\n",
              "        3.33353411e-01, -2.63543790e-01,  1.45106151e+00, -2.00823431e-01,\n",
              "       -2.52044389e+00,  8.30247656e-02, -5.33748691e-01, -5.69809102e-01,\n",
              "       -3.36540586e-01,  2.03188184e-01,  2.56976630e-01,  5.63342840e-01,\n",
              "       -9.85581627e-01, -2.34970952e-01,  4.60575674e-01,  2.24567448e+00,\n",
              "        3.73485776e-01, -4.57896860e-01,  1.98034271e+00,  1.85737066e+00,\n",
              "       -1.08289261e+00,  5.18939251e-01,  5.11817912e-01, -2.03734710e+00,\n",
              "        7.72115045e-01,  2.05220791e-01, -8.80172160e-02,  2.91901525e-01,\n",
              "        2.26603665e+00, -1.19021543e+00, -3.10720759e+00,  1.78002685e-01,\n",
              "       -6.61965659e-01, -2.77712969e-01,  2.71898827e-01,  2.00070976e+00,\n",
              "        2.49516381e-01,  9.41530738e-01, -6.68141136e-01, -4.73419185e-01,\n",
              "       -6.59920493e-01, -9.61067895e-01, -6.40843423e-01,  2.66282682e+00,\n",
              "        9.30104887e-01, -1.27516310e-01, -7.50723802e-01, -1.21269412e-02,\n",
              "       -1.10866962e+00, -8.09543966e-01, -6.09915538e-01,  8.43662552e-01,\n",
              "        2.18195409e-01,  7.25184333e-01, -5.80199169e-01, -1.19621044e+00,\n",
              "       -4.56471085e-01,  3.88535123e-02,  2.17506763e+00, -1.25984428e+00,\n",
              "        6.46944348e-02,  4.07210567e-01, -2.04441917e+00,  3.69026205e-01,\n",
              "        4.45397158e-01, -7.91036014e-01,  7.27590286e-01, -5.62989210e-01,\n",
              "       -5.40560847e-01, -3.66260699e-01, -2.03554074e-01,  7.91759642e-01,\n",
              "        3.52179518e-01,  1.17325185e-01, -2.27362043e-01,  1.16760124e+00,\n",
              "       -8.44919254e-01, -5.05807193e-01, -3.25038062e-01, -3.03595688e+00,\n",
              "        1.75146249e+00,  1.65872328e+00, -1.56171367e+00, -1.73184253e+00,\n",
              "       -1.69156996e+00, -1.12820288e+00,  1.86272682e+00, -6.04067012e-01,\n",
              "        2.85661982e-01,  6.72703719e-02,  1.94016424e-01, -1.13481075e+00,\n",
              "        7.93979240e-01, -3.63405142e-01,  2.39174452e+00,  1.63700276e+00,\n",
              "       -9.17711933e-01,  7.14204546e-01,  9.65472819e-01,  1.27772305e-01,\n",
              "       -3.79333874e-01, -4.14837153e-01, -3.80556019e-02,  3.73604020e-01,\n",
              "       -1.31119150e+00,  6.00965268e-01, -6.10307334e-01,  1.08356643e+00,\n",
              "       -2.42339301e+00, -7.96130072e-01,  5.39546685e-01,  8.41537746e-01,\n",
              "       -1.06655597e-01,  5.23105959e-01,  6.46063483e-01,  2.11424802e-01,\n",
              "       -1.02042419e+00, -1.91146316e+00, -4.54707218e-01,  3.11418936e-01,\n",
              "        2.60801042e-01,  1.01034356e+00, -2.35866053e-01,  3.55182740e-01,\n",
              "       -2.95650781e-01,  5.54548723e-01, -4.94578708e-01, -4.46860704e-01,\n",
              "       -1.15649770e+00,  1.09350140e-01,  1.64810186e-02, -8.33421418e-01,\n",
              "        1.84929472e+00,  1.33970390e+00, -1.14143801e+00, -1.67916428e+00,\n",
              "       -2.83842530e-02, -4.07512827e-01,  4.37524712e-01, -3.48306054e-01,\n",
              "       -6.23583682e-02, -6.90617058e-01, -6.46739438e-01,  5.43295017e-01,\n",
              "       -2.32339963e+00,  2.30527514e+00,  9.09304290e-01,  5.60258494e-01,\n",
              "       -1.12974951e+00,  7.35089882e-01, -7.96517996e-01, -9.03125638e-01,\n",
              "       -4.57377908e-01,  5.86247982e-02,  1.00042692e+00,  9.39536857e-01,\n",
              "       -1.07702064e+00,  1.93227525e-01, -1.32490831e+00, -5.81812946e-01,\n",
              "       -5.16192788e-01, -1.04985212e+00, -1.43342289e-01, -7.00531112e-01,\n",
              "       -2.00499891e+00,  2.18835947e+00, -6.25309084e-01, -2.03976396e+00,\n",
              "        7.76592252e-01, -8.64655816e-01,  1.79436596e-01, -1.12667635e+00,\n",
              "        1.43574883e+00,  1.32548974e+00,  8.31748271e-01,  1.95815394e+00,\n",
              "       -4.46836765e-01,  6.14237325e-01, -5.25486151e-01,  3.34537534e-01,\n",
              "        4.93209025e-01,  2.61355902e-02, -2.21342913e+00, -7.34497447e-01,\n",
              "       -1.18250803e-01, -1.08022768e+00,  8.30801997e-01, -4.16574029e-01,\n",
              "        8.60787885e-01,  2.62989202e-01,  2.96032286e-01, -8.66184569e-01,\n",
              "        7.56399666e-01,  2.59764557e-01,  5.15399310e-01,  3.25013369e-01,\n",
              "       -8.19750547e-01, -2.07122918e-01,  1.97654685e-01,  9.34505054e-01,\n",
              "       -2.21472785e+00, -9.78926449e-01, -1.13848436e+00,  2.31309435e-01,\n",
              "       -3.52501189e-01, -2.07742356e-01, -8.53308544e-01,  1.73768465e+00,\n",
              "       -1.09607392e+00, -1.17304574e+00, -4.02712632e-01,  6.86857689e-01,\n",
              "       -4.18187627e-01, -8.59787260e-01, -2.14744439e+00, -2.64856166e-02,\n",
              "        6.25824298e-01, -6.64495741e-01, -2.29527203e-01, -1.67984166e+00,\n",
              "       -9.66213195e-01,  1.69763202e-01, -1.42536089e+00,  1.00460807e+00,\n",
              "        8.63809432e-01,  5.83342143e-01,  1.09184625e-01, -1.40532892e+00,\n",
              "       -1.44852766e+00, -1.02052713e+00,  5.79892284e-01, -6.83825894e-01,\n",
              "        5.31891881e-01,  2.31329057e-01,  6.40966017e-01, -7.40392600e-01,\n",
              "        3.03494212e-01, -1.09803200e+00, -7.49690427e-01, -8.87804915e-01,\n",
              "        2.69847931e-01,  1.59624886e+00, -1.92546260e-01,  1.51682821e+00,\n",
              "       -7.58591691e-01, -7.73196806e-01, -1.52516854e+00,  5.02305858e-01,\n",
              "        9.23770293e-01, -4.94140925e-01, -1.46807802e+00, -1.63542392e-01,\n",
              "       -1.17117292e-01,  1.03394058e+00,  1.26953143e+00, -1.10247586e+00,\n",
              "        6.27621252e-01,  3.73697349e-01,  4.88231190e-01, -5.81160519e-01,\n",
              "        2.18123497e+00, -1.04783533e+00,  1.39635875e+00,  5.90877328e-01,\n",
              "       -9.89575263e-01, -8.20279380e-01, -3.24998776e-01,  8.09502993e-01,\n",
              "        5.85153554e-01, -8.16155704e-01, -1.13857232e+00, -2.94915103e-01,\n",
              "       -8.22595594e-02,  1.82518426e+00,  7.88504081e-01, -1.34982989e+00,\n",
              "        7.50344657e-01,  4.66341931e-01, -1.55835683e+00, -1.92967581e+00,\n",
              "        8.45786663e-01, -6.06469072e-01, -1.07703535e+00, -1.12918683e+00,\n",
              "        9.13456924e-01,  6.64354798e-01, -3.39253051e-01,  4.54830141e-01,\n",
              "       -1.47370765e-01,  2.14619941e-02,  5.10390063e-01,  2.01614570e-02,\n",
              "       -4.80361363e-01, -6.13975267e-01, -6.87112231e-01,  6.02047217e-02,\n",
              "       -9.45027771e-01,  3.76277101e-01,  1.37416729e+00, -1.65317083e+00,\n",
              "       -1.32862476e+00,  3.77070892e-03, -8.13704722e-01,  4.60576900e-01,\n",
              "       -6.55203085e-01,  6.77540864e-01,  9.25936953e-01,  5.05023717e-01,\n",
              "        4.72565689e-01, -1.89689389e+00, -4.46877811e-01, -2.11227078e-01,\n",
              "        3.21621456e-01,  9.85920604e-01,  3.65654460e-01,  8.42470239e-01,\n",
              "        1.78665107e-01,  1.81677293e+00,  1.15068400e+00, -8.07194391e-01,\n",
              "       -2.77973499e-01,  5.10997802e-01, -2.77270920e-01,  9.17392700e-01,\n",
              "        2.86167250e-01, -1.14458475e-01, -7.17317883e-01,  1.44917650e+00,\n",
              "       -1.22072709e+00,  4.39990461e-02,  5.81007688e-03, -1.20442888e+00])"
            ]
          },
          "metadata": {},
          "execution_count": 2
        }
      ]
    },
    {
      "cell_type": "code",
      "source": [
        "# histograma\n",
        "plt.hist(dados, bins =20)\n",
        "plt.title(\"Dados\")"
      ],
      "metadata": {
        "colab": {
          "base_uri": "https://localhost:8080/",
          "height": 298
        },
        "id": "d2zp9pJA4V35",
        "outputId": "001f6ca5-24d1-445f-f832-d5230697e7cc"
      },
      "execution_count": 7,
      "outputs": [
        {
          "output_type": "execute_result",
          "data": {
            "text/plain": [
              "Text(0.5, 1.0, 'Dados')"
            ]
          },
          "metadata": {},
          "execution_count": 7
        },
        {
          "output_type": "display_data",
          "data": {
            "text/plain": [
              "<Figure size 432x288 with 1 Axes>"
            ],
            "image/png": "[encoded data removed]"
          },
          "metadata": {
            "needs_background": "light"
          }
        }
      ]
    },
    {
      "cell_type": "code",
      "source": [
        "# Geração de gráficos para verificar se a distribuição é normal\n",
        "fig, ax = plt.subplots()\n",
        "stats.probplot(dados, fit = True, plot = ax)\n",
        "plt.show()"
      ],
      "metadata": {
        "colab": {
          "base_uri": "https://localhost:8080/",
          "height": 295
        },
        "id": "E46XpZLB4yih",
        "outputId": "70c99954-dc7e-48aa-bb3b-4c8f4658b1dd"
      },
      "execution_count": 4,
      "outputs": [
        {
          "output_type": "display_data",
          "data": {
            "text/plain": [
              "<Figure size 432x288 with 1 Axes>"
            ],
            "image/png": "[encoded data removed]"
          },
          "metadata": {
            "needs_background": "light"
          }
        }
      ]
    },
    {
      "cell_type": "code",
      "source": [
        "# Execução do teste de Shapiro\n",
        "# segundo argumento é o valor de p, não há como rejeitar a hipótese nula\n",
        "stats.shapiro(dados)"
      ],
      "metadata": {
        "colab": {
          "base_uri": "https://localhost:8080/"
        },
        "id": "YFW5e3Qn5Fjy",
        "outputId": "c7fa64ef-5f32-49d7-87cd-ea6259aed462"
      },
      "execution_count": 5,
      "outputs": [
        {
          "output_type": "execute_result",
          "data": {
            "text/plain": [
              "(0.9984979629516602, 0.5533137917518616)"
            ]
          },
          "metadata": {},
          "execution_count": 5
        }
      ]
    },
    {
      "cell_type": "code",
      "source": [
        "#Dados não normais"
      ],
      "metadata": {
        "id": "FKkUg3935gBp"
      },
      "execution_count": null,
      "outputs": []
    },
    {
      "cell_type": "code",
      "source": [
        "dados2 = skewnorm.rvs(4, size=1000)"
      ],
      "metadata": {
        "id": "-G02uAKh5i2R"
      },
      "execution_count": 6,
      "outputs": []
    },
    {
      "cell_type": "code",
      "source": [
        "# histograma\n",
        "plt.hist(dados2, bins =20)\n",
        "plt.title(\"Dados\")"
      ],
      "metadata": {
        "colab": {
          "base_uri": "https://localhost:8080/",
          "height": 298
        },
        "id": "O0nZN-TV5rAh",
        "outputId": "5f59e5f2-f7af-45be-afa6-e9d601b898da"
      },
      "execution_count": 8,
      "outputs": [
        {
          "output_type": "execute_result",
          "data": {
            "text/plain": [
              "Text(0.5, 1.0, 'Dados')"
            ]
          },
          "metadata": {},
          "execution_count": 8
        },
        {
          "output_type": "display_data",
          "data": {
            "text/plain": [
              "<Figure size 432x288 with 1 Axes>"
            ],
            "image/png": "[encoded data removed]"
          },
          "metadata": {
            "needs_background": "light"
          }
        }
      ]
    },
    {
      "cell_type": "code",
      "source": [
        "# Geração de gráficos para verificar se a distribuição é normal\n",
        "fig, ax = plt.subplots()\n",
        "stats.probplot(dados2, fit = True, plot = ax)\n",
        "plt.show()"
      ],
      "metadata": {
        "colab": {
          "base_uri": "https://localhost:8080/",
          "height": 295
        },
        "id": "rV-WpNpk5xIz",
        "outputId": "23c3bd28-3f05-4bc0-91e2-1aa9bb40f88d"
      },
      "execution_count": 9,
      "outputs": [
        {
          "output_type": "display_data",
          "data": {
            "text/plain": [
              "<Figure size 432x288 with 1 Axes>"
            ],
            "image/png": "[encoded data removed]"
          },
          "metadata": {
            "needs_background": "light"
          }
        }
      ]
    },
    {
      "cell_type": "code",
      "source": [
        "stats.shapiro(dados2)"
      ],
      "metadata": {
        "colab": {
          "base_uri": "https://localhost:8080/"
        },
        "id": "uxXypj73538R",
        "outputId": "a982011b-06d5-4d09-b1cb-69d65d0d983d"
      },
      "execution_count": 10,
      "outputs": [
        {
          "output_type": "execute_result",
          "data": {
            "text/plain": [
              "(0.9647171497344971, 7.77163401720956e-15)"
            ]
          },
          "metadata": {},
          "execution_count": 10
        }
      ]
    }
  ]
}