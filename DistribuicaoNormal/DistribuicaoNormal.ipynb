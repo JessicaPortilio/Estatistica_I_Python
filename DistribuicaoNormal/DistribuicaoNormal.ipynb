{
  "nbformat": 4,
  "nbformat_minor": 0,
  "metadata": {
    "colab": {
      "name": "DistribuicaoNormal.ipynb",
      "provenance": []
    },
    "kernelspec": {
      "name": "python3",
      "display_name": "Python 3"
    },
    "language_info": {
      "name": "python"
    }
  },
  "cells": [
    {
      "cell_type": "code",
      "execution_count": 1,
      "metadata": {
        "id": "QL0emzrqyqLk"
      },
      "outputs": [],
      "source": [
        "# Importação da função norm\n",
        "from scipy.stats import norm"
      ]
    },
    {
      "cell_type": "code",
      "source": [
        "# Conjunto de objetos em uma cesta, a média é 8 e o desvio padrão é 2\n",
        "# Qual a probabilidade de tirar um objeto que peso é menor que 6 quilos?\n",
        "norm.cdf(6,8,2)"
      ],
      "metadata": {
        "colab": {
          "base_uri": "https://localhost:8080/"
        },
        "id": "_kLhvk3Jy2_7",
        "outputId": "32151d28-380c-4511-a6d9-5bd664e93dfa"
      },
      "execution_count": 2,
      "outputs": [
        {
          "output_type": "execute_result",
          "data": {
            "text/plain": [
              "0.15865525393145707"
            ]
          },
          "metadata": {},
          "execution_count": 2
        }
      ]
    },
    {
      "cell_type": "code",
      "source": [
        "# Qual a probabilidade de tirar um objeto que peso é maior que 6 quilos?\n",
        "norm.sf(6,8,2)\n",
        "# podemos fazer assim também\n",
        "1 - norm.cdf(6,8,2)"
      ],
      "metadata": {
        "colab": {
          "base_uri": "https://localhost:8080/"
        },
        "id": "tqMZjSfVzKlb",
        "outputId": "9adbfad6-3126-4563-9c52-1f02149baaba"
      },
      "execution_count": 10,
      "outputs": [
        {
          "output_type": "execute_result",
          "data": {
            "text/plain": [
              "0.8413447460685429"
            ]
          },
          "metadata": {},
          "execution_count": 10
        }
      ]
    },
    {
      "cell_type": "code",
      "source": [
        "# Qual a probabilidade de tirar um objeto que peso é menor que 6 ou maior que 10 quilos?\n",
        "norm.cdf(6,8,2) + norm.sf(10,8,2)"
      ],
      "metadata": {
        "colab": {
          "base_uri": "https://localhost:8080/"
        },
        "id": "56mTMjytzcSy",
        "outputId": "6f494923-b67c-4613-821c-520c3bb8c79a"
      },
      "execution_count": 6,
      "outputs": [
        {
          "output_type": "execute_result",
          "data": {
            "text/plain": [
              "0.31731050786291415"
            ]
          },
          "metadata": {},
          "execution_count": 6
        }
      ]
    },
    {
      "cell_type": "code",
      "source": [
        "# Qual a probabilidade de tirar um objeto que peso é menor que 10 e maior que 8 quilos?\n",
        "norm.cdf(10,8,2) - norm.cdf(8,8,2)"
      ],
      "metadata": {
        "colab": {
          "base_uri": "https://localhost:8080/"
        },
        "id": "jfvvAY-Hzydx",
        "outputId": "c9068005-b539-4637-912a-f9d4325b230a"
      },
      "execution_count": 7,
      "outputs": [
        {
          "output_type": "execute_result",
          "data": {
            "text/plain": [
              "0.3413447460685429"
            ]
          },
          "metadata": {},
          "execution_count": 7
        }
      ]
    },
    {
      "cell_type": "code",
      "source": [
        "#cdf (menor que)\n",
        "#sf (maior que)"
      ],
      "metadata": {
        "id": "3UbAPrb31OvA"
      },
      "execution_count": null,
      "outputs": []
    }
  ]
}