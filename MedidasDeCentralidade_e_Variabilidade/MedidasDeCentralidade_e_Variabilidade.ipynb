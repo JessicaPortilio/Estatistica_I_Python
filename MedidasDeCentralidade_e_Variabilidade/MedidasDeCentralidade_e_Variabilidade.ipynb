{
  "nbformat": 4,
  "nbformat_minor": 0,
  "metadata": {
    "colab": {
      "name": "MedidasDeCentralidade_e_Variabilidade.ipynb",
      "provenance": []
    },
    "kernelspec": {
      "name": "python3",
      "display_name": "Python 3"
    },
    "language_info": {
      "name": "python"
    }
  },
  "cells": [
    {
      "cell_type": "code",
      "execution_count": 1,
      "metadata": {
        "id": "9HT3M1raFjwN"
      },
      "outputs": [],
      "source": [
        "# Importação das bibliotecas: scipy para gerar estatístícas mais detalhadas\n",
        "import numpy as np\n",
        "from scipy import stats"
      ]
    },
    {
      "cell_type": "code",
      "source": [
        "# Criação da variável com os dados dos jogadores, visualização da mediana e média\n",
        "jogadores = [40000, 10000, 12000, 250000, 30000, 140000, 300000, 40000, 8000000]\n",
        "np.mean(jogadores)"
      ],
      "metadata": {
        "colab": {
          "base_uri": "https://localhost:8080/"
        },
        "id": "onzW_44hF65V",
        "outputId": "97d654f0-7f7a-422d-b1de-d54aa02192e2"
      },
      "execution_count": 2,
      "outputs": [
        {
          "output_type": "execute_result",
          "data": {
            "text/plain": [
              "980222.2222222222"
            ]
          },
          "metadata": {},
          "execution_count": 2
        }
      ]
    },
    {
      "cell_type": "code",
      "source": [
        "np.median(jogadores)"
      ],
      "metadata": {
        "colab": {
          "base_uri": "https://localhost:8080/"
        },
        "id": "SUzm8FpKGjat",
        "outputId": "20d25bee-4eab-4080-fe22-a40134979abf"
      },
      "execution_count": 3,
      "outputs": [
        {
          "output_type": "execute_result",
          "data": {
            "text/plain": [
              "40000.0"
            ]
          },
          "metadata": {},
          "execution_count": 3
        }
      ]
    },
    {
      "cell_type": "code",
      "source": [
        "# Criação da variável para geração dos quartis (0%, 25%, 50%, 75% e 100%)\n",
        "quartis = np.quantile(jogadores, [0,0.25,0.5,0.75,1])\n",
        "quartis"
      ],
      "metadata": {
        "colab": {
          "base_uri": "https://localhost:8080/"
        },
        "id": "ws4D2ctwGtDG",
        "outputId": "91cb0d9d-dc67-4214-8adb-72f0302bd882"
      },
      "execution_count": 4,
      "outputs": [
        {
          "output_type": "execute_result",
          "data": {
            "text/plain": [
              "array([  10000.,   30000.,   40000.,  250000., 8000000.])"
            ]
          },
          "metadata": {},
          "execution_count": 4
        }
      ]
    },
    {
      "cell_type": "code",
      "source": [
        "# visualização do desvio padrão\n",
        "np.std(jogadores, ddof = 1)"
      ],
      "metadata": {
        "colab": {
          "base_uri": "https://localhost:8080/"
        },
        "id": "Qf6VZXzxHG8t",
        "outputId": "9c6f4280-e443-48d2-9588-4e1ac79aed52"
      },
      "execution_count": 5,
      "outputs": [
        {
          "output_type": "execute_result",
          "data": {
            "text/plain": [
              "2634599.6744181924"
            ]
          },
          "metadata": {},
          "execution_count": 5
        }
      ]
    },
    {
      "cell_type": "code",
      "source": [
        "# Visualização de estatísticas mais detalhadas usando a biblioteca scipy\n",
        "stats.describe(jogadores)"
      ],
      "metadata": {
        "colab": {
          "base_uri": "https://localhost:8080/"
        },
        "id": "mP6XJwN4HOOF",
        "outputId": "7610ca5e-a9ef-4376-d5ec-c6ff6545f034"
      },
      "execution_count": 6,
      "outputs": [
        {
          "output_type": "execute_result",
          "data": {
            "text/plain": [
              "DescribeResult(nobs=9, minmax=(10000, 8000000), mean=980222.2222222222, variance=6941115444444.445, skewness=2.467032910860829, kurtosis=4.1025741415892805)"
            ]
          },
          "metadata": {},
          "execution_count": 6
        }
      ]
    }
  ]
}